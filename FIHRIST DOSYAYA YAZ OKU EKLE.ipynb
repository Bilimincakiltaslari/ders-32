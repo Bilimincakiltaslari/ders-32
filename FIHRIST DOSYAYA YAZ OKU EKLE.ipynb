{
 "cells": [
  {
   "cell_type": "code",
   "execution_count": null,
   "metadata": {},
   "outputs": [],
   "source": [
    "with open(\"okul.txt\",\"a\") as dosya:\n",
    "    dosya.write(\"ORHUN TUNGA\\torhutung@gmail.com\\t05603655901\\n\")\n",
    "    dosya.write(\"KEREM MOĞOL\\tkerem.mogol@gmail.com\\t05603655902\\n\")\n",
    "    dosya.write(\"EGE İSAPUR\\tegeisapur@gmail.com\\t05603655903\\n\")\n",
    "    dosya.write(\"KAYA YETGİN\\tkaya.yetkin@gmail.com\\t05603655904\\n\")"
   ]
  },
  {
   "cell_type": "code",
   "execution_count": null,
   "metadata": {},
   "outputs": [],
   "source": [
    "okul = open(\"okul.txt\") # metod kullanmadığımız zaman okuma modu \"r\" olarak dosyayı açar.\n",
    "print(okul.read()) # dosyanın tamamını okur ve bize içeriği gösterir."
   ]
  },
  {
   "cell_type": "code",
   "execution_count": null,
   "metadata": {},
   "outputs": [],
   "source": [
    "okul = open(\"okul.txt\")\n",
    "print(type(okul.read())) # dosyanın sınıfını belirtir."
   ]
  },
  {
   "cell_type": "code",
   "execution_count": null,
   "metadata": {},
   "outputs": [],
   "source": [
    "okul = open(\"okul.txt\")\n",
    "print(okul.readline()) # sadece tek bir satırı okur."
   ]
  },
  {
   "cell_type": "code",
   "execution_count": null,
   "metadata": {},
   "outputs": [],
   "source": [
    "okul = open(\"okul.txt\", \"r\") # \"r\" kipini unutmayın yazsakta yazmasakta okuma modunda açar.\n",
    "print(okul.readline()) "
   ]
  },
  {
   "cell_type": "code",
   "execution_count": null,
   "metadata": {},
   "outputs": [],
   "source": [
    "print(okul.readline()) # Her readline uyguladığımızda bir alt satıra geçer."
   ]
  },
  {
   "cell_type": "code",
   "execution_count": null,
   "metadata": {},
   "outputs": [],
   "source": [
    "print(okul.readline())"
   ]
  },
  {
   "cell_type": "code",
   "execution_count": null,
   "metadata": {},
   "outputs": [],
   "source": [
    "print(okul.readline())"
   ]
  },
  {
   "cell_type": "code",
   "execution_count": null,
   "metadata": {},
   "outputs": [],
   "source": [
    "print(okul.readline()) # satır sonu çıktı veremeyecek"
   ]
  },
  {
   "cell_type": "code",
   "execution_count": null,
   "metadata": {},
   "outputs": [],
   "source": [
    "okul.readline() # Başta print komutu kullanmazsak satır sonu boş bir karekter dizisi verir."
   ]
  },
  {
   "cell_type": "code",
   "execution_count": null,
   "metadata": {},
   "outputs": [],
   "source": [
    "okul = open(\"okul.txt\", \"r\")\n",
    "print(okul.readlines()) # readlines() metedu tüm metni bir liste olarak verir."
   ]
  },
  {
   "cell_type": "code",
   "execution_count": null,
   "metadata": {},
   "outputs": [],
   "source": [
    "f = open(\"okul.txt\")\n",
    "f.read() # print komutu kullanmadığımızdan metni programda yazdığımız şekilde okudu."
   ]
  },
  {
   "cell_type": "code",
   "execution_count": null,
   "metadata": {},
   "outputs": [],
   "source": [
    "f.read() # Bir önceki satırda metnin tamamını okuduğundan metnin (karekter dizisinin) en sonuna gelmiş olduk."
   ]
  },
  {
   "cell_type": "code",
   "execution_count": null,
   "metadata": {},
   "outputs": [],
   "source": [
    "f.seek(0) # Karakter dizisinin en başına geldik."
   ]
  },
  {
   "cell_type": "code",
   "execution_count": null,
   "metadata": {},
   "outputs": [],
   "source": [
    "f.read() # en baştan okuyabiliriz."
   ]
  },
  {
   "cell_type": "code",
   "execution_count": null,
   "metadata": {},
   "outputs": [],
   "source": [
    "f.seek(44) # Bu metodla 31. byte tan itibaren okumaya başlar.\n",
    "f.read()"
   ]
  },
  {
   "cell_type": "code",
   "execution_count": null,
   "metadata": {},
   "outputs": [],
   "source": [
    "f.tell() # # Dosyanın okunurken hangi byte konumunda bulunduğunu gösterir."
   ]
  },
  {
   "cell_type": "code",
   "execution_count": null,
   "metadata": {},
   "outputs": [],
   "source": [
    "with open(\"okul.txt\", \"a\") as f: # append metedu ekleme metedur dosyanın en başına yazdığımız veriyi ekler.\n",
    "    f.write(\"KEREM TOPALLI\\tbugratopalli@gmail.com\\t05603655908\\n\")"
   ]
  },
  {
   "cell_type": "code",
   "execution_count": null,
   "metadata": {},
   "outputs": [],
   "source": [
    "with open(\"okul.txt\", \"r+\") as f: # Dikkat edin hem okuyup hem yazmalıyız.\n",
    "    veri = f.read() # Bu satırı yazmazsak ne olur bir sonraki satırda göreceğiz.\n",
    "    f.seek(0) #Dosyayı başa sarıyoruz\n",
    "    f.write(\"ADA TOMRUK\\tadatomruk10@gmail.com\\t05603655911\\n\"+veri)"
   ]
  },
  {
   "cell_type": "code",
   "execution_count": null,
   "metadata": {},
   "outputs": [],
   "source": [
    "with open(\"okul.txt\", \"r+\") as f: # Dikkat edin hem okuyup hem yazmalıyız.\n",
    "    # veri = f.read()  satırını kullanmazsak ilk satırın üzerine yazacağından ilk satırı siler.\n",
    "    f.seek(0) #Dosyayı başa sarıyoruz\n",
    "    f.write(\"ECE ÖZSERTEL\\teceozsertel1@gmail.com\\t05603655909\\n\") # +veri yazmamıza gerek yok çünkü yok."
   ]
  },
  {
   "cell_type": "code",
   "execution_count": null,
   "metadata": {},
   "outputs": [],
   "source": [
    "with open(\"okul.txt\", \"r+\") as f: #\"r+\" kipinde açmış olmamız. Bu şekilde dosyayı hem okuma hem de yazma kipinde açmış oluyoruz.\n",
    "    veri = f.readlines() # readlines() metodu dosyayı liste halinde veriyor. listeler, üzerinde değişiklik yapılabilen \n",
    "    veri.insert(2, \"ONUR KIRÇİÇEK\\tbkircicek@gmail.com\\t05603655912\\n\") # veri tipleridir. Listelerin bu özelliğinden  \n",
    "    f.seek(0) # yararlanarak, dosyaların herhangi bir yerinde yapmak istediğimiz değişiklikleri rahatlıkla yapabiliriz. \n",
    "    f.writelines(veri) # writelines metotu yardımıyla liste yazdırabiliyoruz. Sadece Write ile liste yazılamaz."
   ]
  },
  {
   "cell_type": "code",
   "execution_count": null,
   "metadata": {},
   "outputs": [],
   "source": [
    "with open(\"okul.txt\", \"r+\") as f:\n",
    "    veri = f.readlines()\n",
    "    veri.insert(4, \"ALP TUNA FAZLA\\talptunafazla@gmail.com\\t05603655913\\n\")\n",
    "    f.seek(0)\n",
    "    for öğe in veri: # Listedeki her bir elemanı öğe adlı değişkene atayacak döngü yarattık.\n",
    "        f.write(öğe) # Artık sadece write komutu ile her öğe nin karşılığı olan listenin elemanlarını yazdırabiliriz."
   ]
  },
  {
   "cell_type": "code",
   "execution_count": null,
   "metadata": {},
   "outputs": [],
   "source": []
  },
  {
   "cell_type": "code",
   "execution_count": null,
   "metadata": {},
   "outputs": [],
   "source": [
    "dosya=open(\"okul.txt\", \"w\")\n",
    "dosya.close()"
   ]
  },
  {
   "cell_type": "code",
   "execution_count": null,
   "metadata": {},
   "outputs": [],
   "source": [
    "Kip\tAçıklaması\n",
    "\"r\" Bu öntanımlı kiptir. Bu kip dosyayı okuma yetkisiyle açar. Ancak bu kipi kullanabilmemiz için, ilgili dosyanın disk\n",
    "    üzerinde halihazırda var olması gerekir. Eğer bu kipte açılmak istenen dosya mevcut değilse Python bize bir hata mesajı\n",
    "    gösterecektir. Dediğimiz gibi, bu öntanımlı kiptir. Dolayısıyla dosyayı açarken herhangi bir kip belirtmezsek Python\n",
    "    dosyayı bu kipte açmak istediğimizi varsayacaktır.\n",
    "\"w\" Bu kip dosyayı yazma yetkisiyle açar. Eğer belirttiğiniz adda bir dosya zaten disk üzerinde varsa, Python hiçbir şey\n",
    "    sormadan dosya içeriğini silecektir. Eğer belirttiğiniz adda bir dosya diskte yoksa, Python o adda bir dosyayı otomatik\n",
    "    olarak oluşturur.\n",
    "\"a\" Bu kip dosyayı yazma yetkisiyle açar. Eğer dosya zaten disk üzerinde mevcutsa içeriğinde herhangi bir değişiklik yapılmaz.\n",
    "    Bu kipte açtığınız bir dosyaya eklediğiniz veriler varolan verilere ilave edilir. Eğer belirttiğiniz adda bir dosya yoksa\n",
    "    Python otomatik olarak o adda bir dosyayı sizin için oluşturacaktır.\n",
    "\"x\" Bu kip dosyayı yazma yetkisiyle açar. Eğer belirttiğiniz adda bir dosya zaten disk üzerinde varsa, Python varolan dosyayı\n",
    "    silmek yerine size bir hata mesajı gösterir. Zaten bu kipin \"w\" kipinden farkı, varolan dosyaları silmemesidir. Eğer\n",
    "    belirttiğiniz adda bir dosya diskte yoksa, bu kip yardımıyla o ada sahip bir dosya oluşturabilirsiniz.\n",
    "\"r+\"Bu kip, bir dosyayı hem yazma hem de okuma yetkisiyle açar. Bu kipi kullanabilmeniz için, belirttiğiniz dosyanın disk\n",
    "    üzerinde mevcut olması gerekir.\n",
    "\"w+\"Bu kip bir dosyayı hem yazma hem de okuma yetkisiyle açar. Eğer dosya mevcutsa içerik silinir, eğer dosya mevcut değilse\n",
    "    oluşturulur.\n",
    "\"a+\"Bu kip bir dosyayı hem yazma hem de okuma yetkisiyle açar. Eğer dosya zaten disk üzerinde mevcutsa içeriğinde herhangi\n",
    "    bir değişiklik yapılmaz. Bu kipte açtığınız bir dosyaya eklediğiniz veriler varolan verilere ilave edilir. Eğer\n",
    "    belirttiğiniz adda bir dosya yoksa Python otomatik olarak o adda bir dosyayı sizin için oluşturacaktır.\n",
    "\"x+\"Bu kip dosyayı hem okuma hem de yazma yetkisiyle açar. Eğer belirttiğiniz adda bir dosya zaten disk üzerinde varsa,\n",
    "    Python varolan dosyayı silmek yerine size bir hata mesajı gösterir. Zaten bu kipin \"w+\" kipinden farkı, varolan dosyaları\n",
    "    silmemesidir. Eğer belirttiğiniz adda bir dosya diskte yoksa, bu kip yardımıyla o ada sahip bir dosya oluşturup bu dosyayı\n",
    "    hem okuma hem de yazma yetkisiyle açabilirsiniz.\n",
    "\"rb\"Bu kip, metin dosyaları ile ikili (binary) dosyaları ayırt eden sistemlerde ikili dosyaları okuma yetkisiyle açmak için\n",
    "    kullanılır. \"r\" kipi için söylenenler bu kip için de geçerlidir.\n",
    "\"wb\"Bu kip, metin dosyaları ile ikili dosyaları ayırt eden sistemlerde ikili dosyaları yazma yetkisiyle açmak için kullanılır.\n",
    "    \"w\" kipi için söylenenler bu kip için de geçerlidir.\n",
    "\"ab\"Bu kip, metin dosyaları ile ikili dosyaları ayırt eden sistemlerde ikili dosyaları yazma yetkisiyle açmak için kullanılır.\n",
    "    \"a\" kipi için söylenenler bu kip için de geçerlidir.\n",
    "\"xb\"Bu kip, metin dosyaları ile ikili dosyaları ayırt eden sistemlerde ikili dosyaları yazma yetkisiyle açmak için kullanılır.\n",
    "    \"x\" kipi için söylenenler bu kip için de geçerlidir.\n",
    "\"rb+\"Bu kip, metin dosyaları ile ikili dosyaları ayırt eden sistemlerde ikili dosyaları hem okuma hem de yazma yetkisiyle açmak\n",
    "    için kullanılır. \"r+\" kipi için söylenenler bu kip için de geçerlidir.\n",
    "\"wb+\"Bu kip, metin dosyaları ile ikili dosyaları ayırt eden sistemlerde ikili dosyaları hem okuma hem de yazma yetkisiyle\n",
    "    açmak için kullanılır. \"w+\" kipi için söylenenler bu kip için de geçerlidir.\n",
    "\"ab+\"Bu kip, metin dosyaları ile ikili dosyaları ayırt eden sistemlerde ikili dosyaları hem okuma hem de yazma yetkisiyle açmak\n",
    "    için kullanılır. \"a+\" kipi için söylenenler bu kip için de geçerlidir.\n",
    "\"xb+\"Bu kip, metin dosyaları ile ikili dosyaları ayırt eden sistemlerde ikili dosyaları hem okuma hem de yazma yetkisiyle açmak\n",
    "    için kullanılır. \"x+\" kipi için söylenenler bu kip için de geçerlidir."
   ]
  }
 ],
 "metadata": {
  "kernelspec": {
   "display_name": "Python 3",
   "language": "python",
   "name": "python3"
  },
  "language_info": {
   "codemirror_mode": {
    "name": "ipython",
    "version": 3
   },
   "file_extension": ".py",
   "mimetype": "text/x-python",
   "name": "python",
   "nbconvert_exporter": "python",
   "pygments_lexer": "ipython3",
   "version": "3.7.3"
  }
 },
 "nbformat": 4,
 "nbformat_minor": 2
}
